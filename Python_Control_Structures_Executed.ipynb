{
 "cells": [
  {
   "cell_type": "markdown",
   "metadata": {
    "id": "2oJNoYsuqWj-"
   },
   "source": [
    "# Introduction to Control Structures in Python\n",
    "\n",
    "by: Leon Shpaner"
   ]
  },
  {
   "cell_type": "markdown",
   "metadata": {},
   "source": [
    "Control structures are fundamental components of programming languages that enable developers to control the flow of their programs. They determine how instructions are executed based on specified conditions or rules. In Python, control structures allow you to make decisions, repeat actions, and create organized, responsive code.\n",
    "\n",
    "Python provides three primary types of control structures:\n",
    "\n",
    "**Sequential Execution**  \n",
    "This is the default mode of execution where statements are executed in the order they appear. It's the basic foundation of any program.\n",
    "\n",
    "**Conditional Execution (if statements):**  \n",
    "Python allows you to make decisions in your code using conditional statements. With if statements, you can execute different blocks of code based on whether specific conditions are met.\n",
    "\n",
    "**Repetitive Execution (loops):**  \n",
    "Loops are used to repeat a block of code multiple times. Python offers two types of loops: for loops and while loops. For loops iterate over a sequence (like a list), while loops repeat as long as a certain condition is true.\n",
    "\n",
    "Understanding and effectively utilizing these control structures is essential for creating flexible, dynamic, and efficient programs. They empower you to handle diverse scenarios, respond to user input, and automate repetitive tasks, making your code more robust and user-friendly. As you dive into this topic, you'll gain the ability to create more sophisticated and interactive Python programs."
   ]
  },
  {
   "cell_type": "markdown",
   "metadata": {},
   "source": [
    "## If Statements\n",
    "\n",
    "If statements are essential control structures in programming that allow you to make decisions and execute code based on certain conditions. They enable your program to choose between alternative paths of execution.\n",
    "\n",
    "Basic Syntax of an If Statement:\n",
    "\n",
    "The basic structure of an if statement is as follows:\n",
    "if condition:  \n",
    "&nbsp; &nbsp; code to be executed if the condition is true\n",
    "\n",
    "The 'condition' is an expression that evaluates to either True or False.\n"
   ]
  },
  {
   "cell_type": "markdown",
   "metadata": {},
   "source": [
    "### Example: Checking Age for Voting Eligibility"
   ]
  },
  {
   "cell_type": "code",
   "execution_count": 1,
   "metadata": {},
   "outputs": [
    {
     "name": "stdout",
     "output_type": "stream",
     "text": [
      "You are eligible to vote.\n"
     ]
    }
   ],
   "source": [
    "age = 18\n",
    "\n",
    "if age >= 18:\n",
    "    print(\"You are eligible to vote.\")\n",
    "else:\n",
    "    print(\"You are not eligible to vote.\")"
   ]
  },
  {
   "cell_type": "markdown",
   "metadata": {},
   "source": [
    "In this example, the if statement checks whether the 'age' is greater than or equal to 18. If the condition is true, it prints the eligibility message; otherwise, it prints the ineligible message.\n",
    "\n",
    "Using Elif for Multiple Conditions\n",
    "\n",
    "The 'elif' (short for \"else if\") keyword allows you to specify additional conditions to check if the previous condition is false.\n"
   ]
  },
  {
   "cell_type": "code",
   "execution_count": 2,
   "metadata": {},
   "outputs": [
    {
     "name": "stdout",
     "output_type": "stream",
     "text": [
      "Number is zero.\n"
     ]
    }
   ],
   "source": [
    "number = 0\n",
    "\n",
    "if number > 0:\n",
    "    print(\"Number is positive.\")\n",
    "elif number == 0:\n",
    "    print(\"Number is zero.\")\n",
    "else:\n",
    "    print(\"Number is negative.\")"
   ]
  },
  {
   "cell_type": "markdown",
   "metadata": {},
   "source": [
    "In this example, the if statement checks multiple conditions in sequence and executes the appropriate code block.\n",
    "\n",
    "**Nested If Statements**\n",
    "\n",
    "If statements can be nested within each other to handle more complex decision-making scenarios."
   ]
  },
  {
   "cell_type": "code",
   "execution_count": 3,
   "metadata": {},
   "outputs": [
    {
     "name": "stdout",
     "output_type": "stream",
     "text": [
      "You are eligible for a loan.\n"
     ]
    }
   ],
   "source": [
    "age = 25\n",
    "income = 50000\n",
    "\n",
    "if age >= 18:\n",
    "    if income > 30000:\n",
    "        print(\"You are eligible for a loan.\")\n",
    "    else:\n",
    "        print(\"Your income is insufficient for a loan.\")\n",
    "else:\n",
    "    print(\"You are not of legal age for a loan.\")"
   ]
  },
  {
   "cell_type": "markdown",
   "metadata": {},
   "source": [
    "In this example, nested if statements are used to determine loan eligibility based on age and income.\n",
    "\n",
    "**Ternary Operator (Conditional Expression)**\n",
    "\n",
    "Python also supports a concise way to write simple if-else statements using the ternary operator."
   ]
  },
  {
   "cell_type": "code",
   "execution_count": 4,
   "metadata": {},
   "outputs": [
    {
     "name": "stdout",
     "output_type": "stream",
     "text": [
      "Maximum value: 20\n"
     ]
    }
   ],
   "source": [
    "x = 10\n",
    "y = 20\n",
    "max_value = x if x > y else y\n",
    "print(\"Maximum value:\", max_value)"
   ]
  },
  {
   "cell_type": "markdown",
   "metadata": {},
   "source": [
    "The ternary operator assigns the value of 'x' to 'max_value' if 'x' is greater than 'y', otherwise it assigns the value of 'y' to 'max_value'.\n",
    "\n",
    "In Summary, if statements provide a way to make decisions in your code by evaluating conditions. They allow you to execute different code blocks based on whether a condition is true or false.\n",
    "\n",
    "With the addition of 'elif' and 'else', you can handle multiple scenarios and paths of execution.\n",
    "\n",
    "Mastering if statements is essential for creating dynamic, responsive, and logic-driven programs.\n"
   ]
  },
  {
   "cell_type": "markdown",
   "metadata": {
    "id": "mXIpvWdKqerI"
   },
   "source": [
    "## For Loops"
   ]
  },
  {
   "cell_type": "markdown",
   "metadata": {
    "id": "r-QDHVWmrXYA"
   },
   "source": [
    "For loops are used to iterate over a sequence of items, such as a list, range, or string. They execute a block of code for each item in the sequence. For loops are fundamental control structures in Python used for repetitive tasks. They are designed to iterate over a sequence of items, performing a set of actions for each item. \n",
    "\n",
    "The basic syntax of a for loop is as follows:  \n",
    "\n",
    "for item in sequence:  \n",
    "&nbsp; &nbsp; &nbsp;   Code to be executed for each item\n",
    "\n",
    "Common sequences include lists, ranges, strings, and dictionaries.\n",
    "\n",
    "Let's explore some key aspects of for loops and start with a basic example, below."
   ]
  },
  {
   "cell_type": "code",
   "execution_count": 5,
   "metadata": {
    "colab": {
     "base_uri": "https://localhost:8080/"
    },
    "id": "l1tiOPGPqZVz",
    "outputId": "81a38b7a-5239-4068-97f7-096814738603"
   },
   "outputs": [
    {
     "name": "stdout",
     "output_type": "stream",
     "text": [
      "Example of a for loop:\n",
      "0\n",
      "1\n",
      "2\n",
      "3\n",
      "4\n"
     ]
    }
   ],
   "source": [
    "# Example of a for loop:\n",
    "print(\"Example of a for loop:\")\n",
    "\n",
    "# The 'range()' function generates a sequence of numbers from 0 up to (but not including) the specified number.\n",
    "# In this case, 'range(5)' generates numbers 0, 1, 2, 3, 4.\n",
    "for i in range(5):\n",
    "    # The code within the loop is indented. It will be executed for each value of 'i' in the sequence.\n",
    "    print(i)\n",
    "    # This line prints the current value of 'i' during each iteration."
   ]
  },
  {
   "cell_type": "markdown",
   "metadata": {
    "id": "kjRAXe3zrxWk"
   },
   "source": [
    "You can also loop over other sequences like lists, tuples, strings, etc. For example:"
   ]
  },
  {
   "cell_type": "code",
   "execution_count": 6,
   "metadata": {
    "colab": {
     "base_uri": "https://localhost:8080/"
    },
    "id": "KgHwRhPcslwl",
    "outputId": "2e9e52b9-f757-435e-be96-d60cea55b0c6"
   },
   "outputs": [
    {
     "name": "stdout",
     "output_type": "stream",
     "text": [
      "\n",
      "Looping over a list:\n",
      "apple\n",
      "banana\n",
      "cherry\n"
     ]
    }
   ],
   "source": [
    "fruits = [\"apple\", \"banana\", \"cherry\"] # list of fruits\n",
    "print(\"\\nLooping over a list:\")\n",
    "for fruit in fruits:\n",
    "    print(fruit)\n",
    "    # This loop iterates over each element (fruit) in the 'fruits' list."
   ]
  },
  {
   "cell_type": "markdown",
   "metadata": {
    "id": "AMg1t_fYsy7-"
   },
   "source": [
    "For loops are versatile and can be extended with advanced concepts like nested loops, list comprehensions, and the enumerate() function. They are essential tools for automating repetitive tasks and processing data in various forms.\n",
    "\n",
    "Remember that the indentation is crucial in Python. The code block inside the for loop must be indented properly to indicate its scope."
   ]
  },
  {
   "cell_type": "markdown",
   "metadata": {
    "id": "MEctOPKyvM3u"
   },
   "source": [
    "## Nested Loops"
   ]
  },
  {
   "cell_type": "markdown",
   "metadata": {
    "id": "xeOUrJdFvQMy"
   },
   "source": [
    "Nested loops are used when you want to iterate over multiple sequences within each other.\n",
    "\n",
    "In some scenarios, you may need to work with multiple sequences simultaneously. Nested loops provide a way to iterate over combinations of items from different sequences. The structure of a nested loop involves placing one loop inside another loop. Each iteration of the outer loop triggers a complete iteration of the inner loop."
   ]
  },
  {
   "cell_type": "markdown",
   "metadata": {},
   "source": [
    "### Example of Nested Loops\n",
    "\n",
    "Suppose we have two ranges: an outer loop from 0 to 2, and an inner loop from 0 to 1. The outer loop iterates over the values 0, 1, and 2. For each of these outer loop values, the inner loop iterates over the values 0 and 1."
   ]
  },
  {
   "cell_type": "code",
   "execution_count": 7,
   "metadata": {
    "colab": {
     "base_uri": "https://localhost:8080/"
    },
    "id": "tKuK5HVHvEbs",
    "outputId": "a22cc67a-aa6c-4994-ff88-044ea60df27d"
   },
   "outputs": [
    {
     "name": "stdout",
     "output_type": "stream",
     "text": [
      "\n",
      "Example of nested loops:\n",
      "\n",
      "i: 0, j: 0\n",
      "i: 0, j: 1\n",
      "i: 1, j: 0\n",
      "i: 1, j: 1\n",
      "i: 2, j: 0\n",
      "i: 2, j: 1\n"
     ]
    }
   ],
   "source": [
    "print(\"\\nExample of nested loops:\")\n",
    "print()\n",
    "# Here, we have 2 ranges:\n",
    "# outer loop iterates 0 to 2, \n",
    "for i in range(3): \n",
    "    # and inner loop iterates 0 to 1.\n",
    "    for j in range(2):\n",
    "        print(f\"i: {i}, j: {j}\")\n",
    "        # This loop structure will print all combinations of i and j."
   ]
  },
  {
   "cell_type": "markdown",
   "metadata": {
    "id": "1AS3djJnyI-N"
   },
   "source": [
    "## Iterating through Dictionaries"
   ]
  },
  {
   "cell_type": "markdown",
   "metadata": {
    "id": "hQqBgaAMyLwG"
   },
   "source": [
    "Dictionaries consist of key-value pairs. We can loop through the keys, values, or both. Iterating through dictionaries allows you to access and process these pairs using for loops."
   ]
  },
  {
   "cell_type": "markdown",
   "metadata": {},
   "source": [
    "Suppose we have a dictionary representing student grades:"
   ]
  },
  {
   "cell_type": "code",
   "execution_count": 8,
   "metadata": {},
   "outputs": [],
   "source": [
    "student_grades = {\"Alice\": 90, \"Bob\": 85, \"Carol\": 78}"
   ]
  },
  {
   "cell_type": "code",
   "execution_count": 9,
   "metadata": {},
   "outputs": [
    {
     "name": "stdout",
     "output_type": "stream",
     "text": [
      "Looping through dictionary keys:\n",
      "Student: Alice\n",
      "Student: Bob\n",
      "Student: Carol\n"
     ]
    }
   ],
   "source": [
    "print(\"Looping through dictionary keys:\")\n",
    "for student in student_grades:\n",
    "    print(f\"Student: {student}\")\n",
    "    # This loop iterates through the dictionary keys (student names)."
   ]
  },
  {
   "cell_type": "code",
   "execution_count": 10,
   "metadata": {
    "colab": {
     "base_uri": "https://localhost:8080/"
    },
    "id": "cQLqyCmDyCD8",
    "outputId": "ae7d3498-3da5-4a84-d9ef-96186b5b0be1"
   },
   "outputs": [
    {
     "name": "stdout",
     "output_type": "stream",
     "text": [
      "\n",
      "Looping through dictionary items:\n",
      "Student: Alice, Grade: 90\n",
      "Student: Bob, Grade: 85\n",
      "Student: Carol, Grade: 78\n"
     ]
    }
   ],
   "source": [
    "# Looping through Keys and Values (Items):\n",
    "print(\"\\nLooping through dictionary items:\")\n",
    "for student, grade in student_grades.items():\n",
    "    print(f\"Student: {student}, Grade: {grade}\")"
   ]
  },
  {
   "cell_type": "markdown",
   "metadata": {},
   "source": [
    "The 'keys()' method returns a view of dictionary keys.  \n",
    "The 'values()' method returns a view of dictionary values.  \n",
    "The 'items()' method returns a view of dictionary key-value pairs."
   ]
  },
  {
   "cell_type": "markdown",
   "metadata": {},
   "source": [
    "It's important to note that the order of iteration may not be the same as the order of insertion since dictionaries in Python 3.7 and later maintain the insertion order."
   ]
  },
  {
   "cell_type": "markdown",
   "metadata": {},
   "source": [
    "### Practical Example: Counting Letter Frequency"
   ]
  },
  {
   "cell_type": "markdown",
   "metadata": {},
   "source": [
    "Here's an example of how you can use dictionaries and for loops to count the frequency of letters in a string:"
   ]
  },
  {
   "cell_type": "code",
   "execution_count": 11,
   "metadata": {},
   "outputs": [],
   "source": [
    "text = \"hello world\"\n",
    "letter_frequency = {}"
   ]
  },
  {
   "cell_type": "code",
   "execution_count": 12,
   "metadata": {},
   "outputs": [
    {
     "name": "stdout",
     "output_type": "stream",
     "text": [
      "\n",
      "Letter Frequency:\n",
      "Letter: h, Frequency: 1\n",
      "Letter: e, Frequency: 1\n",
      "Letter: l, Frequency: 3\n",
      "Letter: o, Frequency: 2\n",
      "Letter: w, Frequency: 1\n",
      "Letter: r, Frequency: 1\n",
      "Letter: d, Frequency: 1\n"
     ]
    }
   ],
   "source": [
    "for char in text:\n",
    "    if char.isalpha():\n",
    "        # Convert to lowercase to treat uppercase and lowercase letters equally\n",
    "        char = char.lower()  \n",
    "        if char in letter_frequency:\n",
    "            letter_frequency[char] += 1\n",
    "        else:\n",
    "            letter_frequency[char] = 1\n",
    "print(\"\\nLetter Frequency:\")\n",
    "for letter, frequency in letter_frequency.items():\n",
    "    print(f\"Letter: {letter}, Frequency: {frequency}\")"
   ]
  },
  {
   "cell_type": "markdown",
   "metadata": {},
   "source": [
    "In summary, dictionaries provide a flexible way to store and retrieve data. Using for loops to iterate through dictionaries allows you to work with keys, values, and key-value pairs effectively."
   ]
  },
  {
   "cell_type": "code",
   "execution_count": 13,
   "metadata": {
    "colab": {
     "base_uri": "https://localhost:8080/"
    },
    "id": "MG3_m8r2yiwe",
    "outputId": "a8621d17-c4a6-4f19-d227-2b0a416f8611"
   },
   "outputs": [
    {
     "name": "stdout",
     "output_type": "stream",
     "text": [
      "\n",
      "Using enumerate() with a list:\n"
     ]
    }
   ],
   "source": [
    "# Using enumerate() to get index and value\n",
    "print(\"\\nUsing enumerate() with a list:\")\n",
    "\n",
    "fruits = [\"apple\", \"banana\", \"cherry\"]"
   ]
  },
  {
   "cell_type": "markdown",
   "metadata": {
    "id": "WSKijgrGywmb"
   },
   "source": [
    "The `enumerate()` function adds a counter to an iterable and returns it in a form of enumerate object. You can use it to get both the index and the value of items in a sequence."
   ]
  },
  {
   "cell_type": "code",
   "execution_count": 14,
   "metadata": {
    "colab": {
     "base_uri": "https://localhost:8080/"
    },
    "id": "0jlWXtjTyvfw",
    "outputId": "3e774658-996c-4ab4-8405-77bc2e319885"
   },
   "outputs": [
    {
     "name": "stdout",
     "output_type": "stream",
     "text": [
      "Index: 0, Fruit: apple\n",
      "Index: 1, Fruit: banana\n",
      "Index: 2, Fruit: cherry\n"
     ]
    }
   ],
   "source": [
    "for index, fruit in enumerate(fruits):\n",
    "    print(f\"Index: {index}, Fruit: {fruit}\")\n",
    "    # This loop iterates through the fruits list, providing both index and value."
   ]
  },
  {
   "cell_type": "markdown",
   "metadata": {
    "id": "_rA8iqzoqopo"
   },
   "source": [
    "## While Loops"
   ]
  },
  {
   "cell_type": "markdown",
   "metadata": {},
   "source": [
    "While loops are another fundamental control structure in Python that allow you to repeat a block of code as long as a certain condition is true. Unlike for loops, which iterate over a sequence, while loops continue executing as long as the specified condition remains true.\n",
    "\n",
    "A while loop starts by evaluating the condition. If the condition is initially false, the code inside the loop may not execute at all.\n",
    "\n",
    "While loops are useful when the number of iterations is not known beforehand or when you want to repeat a process until a specific condition is met."
   ]
  },
  {
   "cell_type": "markdown",
   "metadata": {},
   "source": [
    "### Example: Counting Down\n",
    "Let's start with a simple example of a while loop that counts down from a given number:"
   ]
  },
  {
   "cell_type": "code",
   "execution_count": 15,
   "metadata": {
    "colab": {
     "base_uri": "https://localhost:8080/"
    },
    "id": "LX0U_w3wq62W",
    "outputId": "22ff8775-a586-4774-b79b-724b0494983b"
   },
   "outputs": [
    {
     "name": "stdout",
     "output_type": "stream",
     "text": [
      "\n",
      "Example of a while loop:\n",
      "5\n",
      "4\n",
      "3\n",
      "2\n",
      "1\n"
     ]
    }
   ],
   "source": [
    "print(\"\\nExample of a while loop:\")\n",
    "countdown = 5\n",
    "while countdown > 0:\n",
    "    print(countdown)\n",
    "    countdown -= 1"
   ]
  },
  {
   "cell_type": "markdown",
   "metadata": {},
   "source": [
    "The loop continues to execute while the 'countdown' variable is greater than 0. The variable is decremented by 1 in each iteration.\n",
    "\n",
    "Caution: Infinite Loops --> It's important to be cautious with while loops, as an incorrect or unchanging condition can lead to infinite loops, causing your program to run indefinitely. Make sure the condition eventually becomes false.\n",
    "\n",
    "While loops can be controlled using break and continue statements to exit the loop prematurely or skip iterations. In summary, while loops provide a way to repeatedly execute code while a condition remains true. They are versatile tools for scenarios where the number of iterations is uncertain or when waiting for specific conditions."
   ]
  },
  {
   "cell_type": "markdown",
   "metadata": {
    "id": "KfCpwbgrq_h4"
   },
   "source": [
    "## Functions"
   ]
  },
  {
   "cell_type": "markdown",
   "metadata": {},
   "source": [
    "Functions are fundamental building blocks in programming that allow you to organize, modularize, and reuse code. They encapsulate a set of instructions and can be invoked with arguments to perform specific tasks. Functions enhance code readability, maintainability, and allow for efficient development.\n"
   ]
  },
  {
   "cell_type": "markdown",
   "metadata": {},
   "source": [
    "### Defining a Function"
   ]
  },
  {
   "cell_type": "markdown",
   "metadata": {},
   "source": [
    "In Python, functions are defined using the 'def' keyword, followed by the function name and a pair of parentheses. Parameters (input values) can be specified inside the parentheses, and the colon indicates the start of the function block."
   ]
  },
  {
   "cell_type": "code",
   "execution_count": 16,
   "metadata": {},
   "outputs": [],
   "source": [
    "def greet(name):\n",
    "    \"\"\"A function to greet a person by name.\"\"\"\n",
    "    print(f\"Hello, {name}!\")"
   ]
  },
  {
   "cell_type": "markdown",
   "metadata": {},
   "source": [
    "### Calling a Function\n",
    "\n",
    "To use a function, you 'call' it by using its name followed by parentheses. You can provide arguments (input values) inside the parentheses to customize the function's behavior."
   ]
  },
  {
   "cell_type": "code",
   "execution_count": 17,
   "metadata": {},
   "outputs": [
    {
     "name": "stdout",
     "output_type": "stream",
     "text": [
      "Hello, Alice!\n",
      "Hello, Bob!\n"
     ]
    }
   ],
   "source": [
    "greet(\"Alice\")\n",
    "# Output: Hello, Alice!\n",
    "\n",
    "greet(\"Bob\")\n",
    "# Output: Hello, Bob!"
   ]
  },
  {
   "cell_type": "markdown",
   "metadata": {},
   "source": [
    "### Return Values\n",
    "\n",
    "Functions can return values using the 'return' statement. This allows them to provide output to the caller.\n"
   ]
  },
  {
   "cell_type": "code",
   "execution_count": 18,
   "metadata": {},
   "outputs": [
    {
     "name": "stdout",
     "output_type": "stream",
     "text": [
      "Sum: 8\n"
     ]
    }
   ],
   "source": [
    "def add(a, b):\n",
    "    \"\"\"A function to add two numbers and return the result.\"\"\"\n",
    "    result = a + b\n",
    "    return result\n",
    "\n",
    "sum_result = add(5, 3)\n",
    "print(\"Sum:\", sum_result)\n"
   ]
  },
  {
   "cell_type": "markdown",
   "metadata": {},
   "source": [
    "### Default Parameters\n",
    "\n",
    "Functions can have default parameter values. If an argument is not provided for a parameter with a default value, the default value will be used.\n"
   ]
  },
  {
   "cell_type": "code",
   "execution_count": 19,
   "metadata": {},
   "outputs": [
    {
     "name": "stdout",
     "output_type": "stream",
     "text": [
      "Square: 16\n",
      "Cube: 27\n"
     ]
    }
   ],
   "source": [
    "def power(base, exponent=2):\n",
    "    \"\"\"A function to calculate the power of a number with an optional exponent.\"\"\"\n",
    "    result = base ** exponent\n",
    "    return result\n",
    "\n",
    "square = power(4)\n",
    "print(\"Square:\", square)\n",
    "\n",
    "cube = power(3, 3)\n",
    "print(\"Cube:\", cube)\n"
   ]
  },
  {
   "cell_type": "markdown",
   "metadata": {},
   "source": [
    "### Scope of Variables\n",
    "\n",
    "Variables declared inside a function have 'local' scope, meaning they are only accessible within the function. Variables declared outside functions have 'global' scope, and they can be accessed within functions.\n"
   ]
  },
  {
   "cell_type": "code",
   "execution_count": 20,
   "metadata": {},
   "outputs": [
    {
     "name": "stdout",
     "output_type": "stream",
     "text": [
      "I am global\n",
      "I am local\n"
     ]
    }
   ],
   "source": [
    "global_var = \"I am global\"\n",
    "\n",
    "def demonstrate_scope():\n",
    "    local_var = \"I am local\"\n",
    "    print(global_var)  # Accessing a global variable within the function\n",
    "    print(local_var)   # Accessing a local variable within the function\n",
    "\n",
    "demonstrate_scope()\n"
   ]
  },
  {
   "cell_type": "markdown",
   "metadata": {},
   "source": [
    "In Summary, functions are essential for writing organized, reusable, and modular code in Python. They encapsulate code blocks, accept inputs, return outputs, and help manage the scope of variables. With functions, you can break complex tasks into smaller parts, making code more understandable and maintainable.\n",
    "\n",
    "Using functions is a key skill for efficient and effective programming in Python.\n"
   ]
  },
  {
   "cell_type": "markdown",
   "metadata": {},
   "source": [
    "## Comprehensive Review - Using Wine Recognition Dataset"
   ]
  },
  {
   "cell_type": "code",
   "execution_count": 21,
   "metadata": {},
   "outputs": [],
   "source": [
    "# Import necessary libraries\n",
    "import numpy as np\n",
    "import pandas as pd\n",
    "from sklearn.datasets import load_wine"
   ]
  },
  {
   "cell_type": "code",
   "execution_count": 22,
   "metadata": {},
   "outputs": [],
   "source": [
    "# Load the diabetes dataset\n",
    "wine = load_wine()\n",
    "df = pd.DataFrame(wine.data, columns=wine.feature_names)"
   ]
  },
  {
   "cell_type": "markdown",
   "metadata": {},
   "source": [
    "The `calculate_average` function below is designed to compute the average value of a given list of numeric values. Averaging is a common mathematical operation that provides insight into the central tendency of a dataset.\n",
    "By summing up all the values in the list and dividing by the count of values, the function yields the average.\n",
    "\n",
    "The function takes a single parameter, 'numbers', which is expected to be a list containing numeric elements. It then calculates the total sum of these numeric elements and determines the count of items in the list.\n",
    "Using these values, the function computes the average value.\n",
    "\n",
    "It's important to note that if the provided list is empty, meaning it contains no numeric elements, the function returns 0 as the average since there are no values to average.\n",
    "\n",
    "The `calculate_average` function serves as a handy tool for various applications, such as analyzing data, generating summary statistics, and making comparisons based on central tendencies. Its simple yet fundamental functionality makes it a valuable addition to data manipulation tasks."
   ]
  },
  {
   "cell_type": "code",
   "execution_count": 23,
   "metadata": {},
   "outputs": [],
   "source": [
    "# Function to calculate average value of a list\n",
    "def calculate_average(numbers):\n",
    "    \"\"\"\n",
    "    Calculate the average value of a list of numbers.\n",
    "\n",
    "    Parameters:\n",
    "    numbers (list): A list of numeric values.\n",
    "\n",
    "    Returns:\n",
    "    float: The calculated average value. If the list is empty, returns 0.\n",
    "    \"\"\"\n",
    "    total = sum(numbers)\n",
    "    count = len(numbers)\n",
    "    if count > 0:\n",
    "        return total / count\n",
    "    else:\n",
    "        return 0"
   ]
  },
  {
   "cell_type": "markdown",
   "metadata": {},
   "source": [
    "### Calculate the average alcohol content of wine"
   ]
  },
  {
   "cell_type": "code",
   "execution_count": 24,
   "metadata": {},
   "outputs": [
    {
     "name": "stdout",
     "output_type": "stream",
     "text": [
      "Average age of patients: 13.00\n"
     ]
    }
   ],
   "source": [
    "alcohol_column = df['alcohol']  # Corrected index for age column\n",
    "average_alcohol = calculate_average(alcohol_column)\n",
    "print(f\"Average age of patients: {average_alcohol:.2f}\")"
   ]
  },
  {
   "cell_type": "markdown",
   "metadata": {},
   "source": [
    "### Loop to find wines with flavanoids above a certain threshold"
   ]
  },
  {
   "cell_type": "code",
   "execution_count": 25,
   "metadata": {},
   "outputs": [
    {
     "name": "stdout",
     "output_type": "stream",
     "text": [
      "Number of wines with flavanoids above 1.5: 118\n"
     ]
    }
   ],
   "source": [
    "flavanoids = df['flavanoids']\n",
    "flav_threshold = 1.5\n",
    "wines_above_threshold = []\n",
    "for i in range(len(flavanoids)):\n",
    "    if flavanoids[i] > flav_threshold:  # Corrected comparison\n",
    "        wines_above_threshold.append(i)\n",
    "print(f\"Number of wines with flavanoids above {flav_threshold}: {len(wines_above_threshold)}\")\n"
   ]
  },
  {
   "cell_type": "markdown",
   "metadata": {},
   "source": [
    "### While loop to find the wine with the highest alcohol content"
   ]
  },
  {
   "cell_type": "code",
   "execution_count": 26,
   "metadata": {},
   "outputs": [
    {
     "name": "stdout",
     "output_type": "stream",
     "text": [
      "Highest alcohol content: 14.83% for wine at index 8\n"
     ]
    }
   ],
   "source": [
    "highest_alcohol_index = 0\n",
    "highest_alcohol = df['alcohol'][highest_alcohol_index]\n",
    "i = 1\n",
    "while i < len(df):\n",
    "    if df['alcohol'][i] > highest_alcohol:\n",
    "        highest_alcohol = df['alcohol'][i]\n",
    "        highest_alcohol_index = i\n",
    "    i += 1\n",
    "print(f\"Highest alcohol content: {highest_alcohol:.2f}% for wine at index {highest_alcohol_index}\")\n"
   ]
  },
  {
   "cell_type": "markdown",
   "metadata": {},
   "source": [
    "### Decision-making using if statements"
   ]
  },
  {
   "cell_type": "code",
   "execution_count": 27,
   "metadata": {},
   "outputs": [
    {
     "name": "stdout",
     "output_type": "stream",
     "text": [
      "The average alcohol of wines is higher than 10.\n"
     ]
    }
   ],
   "source": [
    "if average_alcohol > 10:\n",
    "    print(\"The average alcohol of wines is higher than 10.\")\n",
    "else:\n",
    "    print(\"The average alcohol of wines is not higher than 10.\")"
   ]
  },
  {
   "cell_type": "markdown",
   "metadata": {},
   "source": [
    "### Display a subset of wine data"
   ]
  },
  {
   "cell_type": "code",
   "execution_count": 28,
   "metadata": {},
   "outputs": [
    {
     "name": "stdout",
     "output_type": "stream",
     "text": [
      "\n",
      "Subset of wine data:\n",
      "Wine 1: Alcohol 14.23%, Flavanoids 3.06, Proline 1065.00\n",
      "Wine 2: Alcohol 13.20%, Flavanoids 2.76, Proline 1050.00\n",
      "Wine 3: Alcohol 13.16%, Flavanoids 3.24, Proline 1185.00\n",
      "Wine 4: Alcohol 14.37%, Flavanoids 3.49, Proline 1480.00\n",
      "Wine 5: Alcohol 13.24%, Flavanoids 2.69, Proline 735.00\n"
     ]
    }
   ],
   "source": [
    "subset_size = 5\n",
    "print(\"\\nSubset of wine data:\")\n",
    "for i in range(subset_size):\n",
    "    print(f\"Wine {i + 1}: Alcohol {df['alcohol'][i]:.2f}%,\"\n",
    "      f\" Flavanoids {df['flavanoids'][i]:.2f},\"\n",
    "      f\" Proline {df['proline'][i]:.2f}\")"
   ]
  }
 ],
 "metadata": {
  "colab": {
   "provenance": []
  },
  "kernelspec": {
   "display_name": "Python 3",
   "language": "python",
   "name": "python3"
  },
  "language_info": {
   "codemirror_mode": {
    "name": "ipython",
    "version": 3
   },
   "file_extension": ".py",
   "mimetype": "text/x-python",
   "name": "python",
   "nbconvert_exporter": "python",
   "pygments_lexer": "ipython3",
   "version": "3.8.3"
  }
 },
 "nbformat": 4,
 "nbformat_minor": 4
}
